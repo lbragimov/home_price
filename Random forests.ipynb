{
 "cells": [
  {
   "cell_type": "code",
   "execution_count": 1,
   "metadata": {},
   "outputs": [
    {
     "name": "stdout",
     "output_type": "stream",
     "text": [
      "[342783.21412558 174039.50976279 309795.80578542 ... 382080.66155956\n",
      " 499259.80487166 481927.9373122 ]\n"
     ]
    }
   ],
   "source": [
    "import numpy as np\n",
    "import pandas as pd\n",
    "#import matplotlib.pyplot as plt\n",
    "from sklearn.ensemble import RandomForestRegressor\n",
    "\n",
    "train_data = pd.read_csv('train_data.csv')\n",
    "test_data = pd.read_csv('test_data.csv')\n",
    "\n",
    "data1 = np.array(train_data)\n",
    "data2 = np.array(test_data)\n",
    "\n",
    "predictionsTrain = data1[:, 1] / 100000\n",
    "dataTrain = data1[:, 2:]\n",
    "\n",
    "dataTest = data2[:, 1:]\n",
    "        \n",
    "regr_1 = RandomForestRegressor(max_depth = 15, n_estimators = 250, max_features=0.75, min_samples_split=25)\n",
    "regr_1.fit(dataTrain, predictionsTrain)\n",
    "\n",
    "y_1 = regr_1.predict(dataTest) * 100000\n",
    "print (y_1)"
   ]
  },
  {
   "cell_type": "code",
   "execution_count": 8,
   "metadata": {},
   "outputs": [
    {
     "name": "stdout",
     "output_type": "stream",
     "text": [
      "1.2727754651546637\n",
      "[ 4.85076544  1.83701635  5.97949339 ...  9.67791229 12.46266306\n",
      "  7.45311043]\n",
      "[-0.8507654353004277 -0.3080163451065956 -0.23149339172419747 ...\n",
      " -0.027912289455807482 2.3473369445112695 -0.45311042906745147]\n"
     ]
    }
   ],
   "source": [
    "from sklearn.ensemble import RandomForestRegressor\n",
    "train_data = pd.read_csv('train_data.csv')\n",
    "\n",
    "data1 = np.array(train_data);\n",
    "predictionsTrain = data1[0:16000, 1] / 100000\n",
    "dataTrain = data1[0:16000, 2:]\n",
    "predictionsTest = data1[16000:, 1] / 100000\n",
    "dataTest = data1[16000:, 2:]\n",
    "        \n",
    "regr_1 = RandomForestRegressor(max_depth = 15, n_estimators = 250, max_features=0.75, min_samples_split=25)\n",
    "regr_1.fit(dataTrain, predictionsTrain)\n",
    "y_1 = regr_1.predict(dataTest)\n",
    "terrorList =predictionsTest - y_1\n",
    "terror = sum(terrorList*terrorList)/1290\n",
    "print (terror)\n",
    "print (y_1)\n",
    "print (terrorList)"
   ]
  },
  {
   "cell_type": "code",
   "execution_count": null,
   "metadata": {},
   "outputs": [],
   "source": []
  }
 ],
 "metadata": {
  "kernelspec": {
   "display_name": "Python 3",
   "language": "python",
   "name": "python3"
  },
  "language_info": {
   "codemirror_mode": {
    "name": "ipython",
    "version": 3
   },
   "file_extension": ".py",
   "mimetype": "text/x-python",
   "name": "python",
   "nbconvert_exporter": "python",
   "pygments_lexer": "ipython3",
   "version": "3.6.4"
  }
 },
 "nbformat": 4,
 "nbformat_minor": 2
}
