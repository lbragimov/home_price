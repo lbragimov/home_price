{
 "cells": [
  {
   "cell_type": "code",
   "execution_count": 8,
   "metadata": {},
   "outputs": [
    {
     "name": "stdout",
     "output_type": "stream",
     "text": [
      "[328352.26264819 205410.34297468 304874.22084078 ... 382015.71894631\n",
      " 376542.87815143 476284.69271005]\n"
     ]
    }
   ],
   "source": [
    "import numpy as np\n",
    "import pandas as pd\n",
    "from sklearn.neural_network import MLPRegressor\n",
    "\n",
    "train_data = pd.read_csv('train_data.csv')\n",
    "test_data = pd.read_csv('test_data.csv')\n",
    "\n",
    "data1 = np.array(train_data)\n",
    "data2 = np.array(test_data)\n",
    "\n",
    "predictionsTrain = data1[:, 1] / 100000\n",
    "dataTrain = data1[:, 2:]\n",
    "\n",
    "tmean = np.mean(dataTrain, axis=0)\n",
    "tstd  = np.std(dataTrain, axis=0, dtype=np.float64)\n",
    "\n",
    "dataTest = data2[:, 1:]\n",
    "\n",
    "dataTrain = (dataTrain - tmean) / tstd\n",
    "dataTest  = (dataTest  - tmean) / tstd\n",
    "\n",
    "regr_1 = MLPRegressor(hidden_layer_sizes=(20, 15, 20), batch_size = 100, max_iter = 500, verbose = False, validation_fraction = 0.1, alpha = 0.0005, learning_rate_init = 0.0005)\n",
    "regr_1.fit(dataTrain, predictionsTrain)\n",
    "\n",
    "y_1 = regr_1.predict(dataTest) * 100000\n",
    "print (y_1)"
   ]
  },
  {
   "cell_type": "code",
   "execution_count": null,
   "metadata": {},
   "outputs": [],
   "source": []
  }
 ],
 "metadata": {
  "kernelspec": {
   "display_name": "Python 3",
   "language": "python",
   "name": "python3"
  },
  "language_info": {
   "codemirror_mode": {
    "name": "ipython",
    "version": 3
   },
   "file_extension": ".py",
   "mimetype": "text/x-python",
   "name": "python",
   "nbconvert_exporter": "python",
   "pygments_lexer": "ipython3",
   "version": "3.6.4"
  }
 },
 "nbformat": 4,
 "nbformat_minor": 2
}
